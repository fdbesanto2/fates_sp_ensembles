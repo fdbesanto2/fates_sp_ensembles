{
 "cells": [
  {
   "cell_type": "markdown",
   "metadata": {},
   "source": [
    "<h1> Ensemble script for FATES-SP runs </h1>\n",
    "\n",
    "This script will \n",
    "\n",
    "<ol>\n",
    "<li>Clone github repo and move to CLM-FATES-SP pull request branchs\n",
    "<li>Make a default 4x5 CLM-FATES-SP case\n",
    "<li>Make an ensemble of CLM-FATES-SP cases \n",
    "<li>Generate an ensemble of parameter files with one at a time modification\n",
    "<li>Point each ensemble member at a different parameter file\n",
    "<li>Submit all these jobs\n",
    "<li>Analyse output\n",
    "</ol>\n",
    "\n",
    "<h4>n.b. 1. Most of the decisions here on compsets, FATES options, resolution, variables etc. are easy to modify. </h4>\n",
    "<h4>n.b. 2. This notebook is also set up to wok with Cheyenne specific paths. Making it machine agnostic is tbd.</h4>"
   ]
  },
  {
   "cell_type": "markdown",
   "metadata": {},
   "source": [
    "<h3>Set global variables and paths for ensemble analysis </h3>"
   ]
  },
  {
   "cell_type": "code",
   "execution_count": 1,
   "metadata": {},
   "outputs": [],
   "source": [
    "#set global variables to pass into BASH commands. \n",
    "\n",
    "ctsmrepo='ctsmsept20'\n",
    "defbuildroot='/glade/scratch/'\n",
    "\n",
    "#Settings for the SP ensemble\n",
    "sp=1\n",
    "noc4=1\n",
    "hydro=0\n",
    "if(sp == 1):\n",
    "    resub=0\n",
    "    ncases=14\n",
    "    ychoose =2009\n",
    "    defcase='SPdefault'\n",
    "    defbuildroot='/glade/scratch/'\n",
    "    if(noc4 == 1):\n",
    "        ens_directory='SPfates_ens_noc4'\n",
    "        caseroot='spfates_noc4_n'\n",
    "        paramsdir='param_files_sp_noc4'\n",
    "        paramfiledefault='fates_params_default_noc4.nc'\n",
    "        if(hydro == 1):\n",
    "            ens_directory='SPfates_ens_noc4_hydro'\n",
    "            caseroot='spfates_noc4_hydro_n'\n",
    "            paramsdir='param_files_sp_noc4_hydro'\n",
    "            paramfiledefault='fates_params_default_noc4.nc'        \n",
    "    else:\n",
    "        ens_directory='SPfates_ens'\n",
    "        caseroot='spfates_01_n'\n",
    "        paramsdir='param_files_sp'\n",
    "        paramfiledefault='fates_params_default.nc'\n",
    "else:\n",
    "#Settings for the NOCOMP ensemble. \n",
    "#set global variables to pass into BASH commands. \n",
    "    sp=0\n",
    "    defcase='SPdefault'\n",
    "    ens_directory='NOCOMP_fates_ens'\n",
    "    caseroot='nocomp_fates_01_n'\n",
    "    paramsdir='param_files_sp'\n",
    "    paramfiledefault='fates_params_default.nc'    \n",
    "    resub=2\n",
    "    ncases=14\n",
    "    ychoose =2009"
   ]
  },
  {
   "cell_type": "markdown",
   "metadata": {},
   "source": [
    "<h3> Control variables for the analysis script.</h3>"
   ]
  },
  {
   "cell_type": "code",
   "execution_count": 2,
   "metadata": {},
   "outputs": [],
   "source": [
    "dosubmit=0\n",
    "forcenewcase=0\n",
    "doanalysis=1"
   ]
  },
  {
   "cell_type": "code",
   "execution_count": 3,
   "metadata": {},
   "outputs": [],
   "source": [
    "import os\n",
    "notebookdr=os.getcwd() "
   ]
  },
  {
   "cell_type": "markdown",
   "metadata": {},
   "source": [
    "<h3>Clone CTSM repo, switch to SP pull request code.</h3>"
   ]
  },
  {
   "cell_type": "code",
   "execution_count": 4,
   "metadata": {},
   "outputs": [],
   "source": [
    "%%bash -s \"$ctsmrepo\"\n",
    "ctsmrepo=$1\n",
    "\n",
    "cd /glade/work/$USER/\n",
    "#go to git directory\n",
    "if [[ -d \"git\" ]]\n",
    "then\n",
    "cd git/\n",
    "else\n",
    "mkdir git\n",
    "cd git\n",
    "fi\n",
    "\n",
    "#go to git repo, or checkout code\n",
    "if [[ -d \"$ctsmrepo\" ]]\n",
    "then\n",
    "cd $ctsmrepo\n",
    "else\n",
    "\n",
    "#clone CTSM code\n",
    "git clone https://github.com/escomp/ctsm $ctsmrepo\n",
    "cd $ctsmrepo\n",
    "./manage_externals/checkout_externals\n",
    "cd src\n",
    "\n",
    "#change CTSM code to SP branch. \n",
    "git remote add  rosie_ctsm_repo  https://github.com/rosiealice/ctsm\n",
    "git fetch rosie_ctsm_repo\n",
    "git checkout -b SP_api rosie_ctsm_repo/SP_api\n",
    "\n",
    "#change FATES code to SP branch. \n",
    "cd fates\n",
    "git remote add  rosie_fates_repo https://github.com/rosiealice/fates\n",
    "git fetch rosie_fates_repo\n",
    "git checkout -b fates_sp_sept rosie_fates_repo/fates_sp_sept\n",
    "fi"
   ]
  },
  {
   "cell_type": "markdown",
   "metadata": {},
   "source": [
    "<h3> Make a default FATES 4x5 case </h3>"
   ]
  },
  {
   "cell_type": "code",
   "execution_count": 5,
   "metadata": {},
   "outputs": [
    {
     "name": "stdout",
     "output_type": "stream",
     "text": [
      "/glade/work/rfisher/git/ctsmsept20/cime/scripts\n",
      "SPdefault exists on your filesystem.\n"
     ]
    }
   ],
   "source": [
    "%%bash -s \"$ctsmrepo\" \"$defcase\"\n",
    "\n",
    "ctsmrepo=$1\n",
    "defcase=$2\n",
    "\n",
    "cd /glade/work/$USER/git/$ctsmrepo/cime/scripts\n",
    "pwd\n",
    "if [[ -d \"$defcase\" ]]\n",
    "then\n",
    "    echo \"$defcase exists on your filesystem.\"\n",
    "else\n",
    "cd $defcase\n",
    "./create_newcase --case $defcase --compset 2000_DATM%GSWP3v1_CLM50%FATES_SICE_SOCN_MOSART_CISM2%NOEVOLVE_SWAV_SIAC_SESP --res f45_f45_mg37  --run-unsupported\n",
    "./case.setup\n",
    "./case.build\n",
    "fi\n",
    "\n",
    "cd $casename"
   ]
  },
  {
   "cell_type": "markdown",
   "metadata": {},
   "source": [
    "<h3> Adjust settings of default case. </h3>"
   ]
  },
  {
   "cell_type": "code",
   "execution_count": 6,
   "metadata": {},
   "outputs": [
    {
     "name": "stdout",
     "output_type": "stream",
     "text": [
      "/glade/scratch/rfisher/SPdefault/bld\n",
      "updating settings,\n",
      "For your changes to take effect, run:\n",
      "./case.build --clean-all\n",
      "./case.build\n",
      "For your changes to take effect, run:\n",
      "./case.build --clean-all\n",
      "./case.build\n"
     ]
    }
   ],
   "source": [
    "%%bash -s \"$ctsmrepo\" \"$defcase\" \"$defbuildroot\" \n",
    "\n",
    "ctsmrepo=$1\n",
    "defcase=$2\n",
    "defbuildroot=$3\n",
    "\n",
    "defbld=$defbuildroot$USER/$defcase/bld\n",
    "echo $defbld\n",
    "cd /glade/work/$USER/git/$ctsmrepo/cime/scripts/$defcase\n",
    "\n",
    "echo 'updating settings',$newcase\n",
    "./xmlchange BUILD_COMPLETE=TRUE;\n",
    "./xmlchange EXEROOT=$defbld;\n",
    "./xmlchange CONTINUE_RUN=FALSE;\n",
    "./xmlchange --id STOP_N --val 10;\n",
    "./xmlchange --id STOP_OPTION --val nyears;\n",
    "./xmlchange --id CLM_FORCE_COLDSTART --val on;\n"
   ]
  },
  {
   "cell_type": "markdown",
   "metadata": {},
   "source": [
    "<h3> Make Default user_nl_clm File </h3>"
   ]
  },
  {
   "cell_type": "code",
   "execution_count": 7,
   "metadata": {},
   "outputs": [
    {
     "name": "stdout",
     "output_type": "stream",
     "text": [
      "ctsmsept20\n",
      "param_files_sp_noc4\n",
      "/glade/work/rfisher/git/ctsmsept20/cime/scripts\n",
      "/glade/u/home/rfisher/fates_sp_ensembles/param_files_sp_noc4/\n",
      "/glade/u/home/rfisher/fates_sp_ensembles/param_files_sp_noc4\n",
      "!----------------------------------------------------------------------------------\n",
      "! Users should add all user specific namelist changes below in the form of \n",
      "! namelist_var = new_namelist_value \n",
      "!\n",
      "! EXCEPTIONS: \n",
      "! Set use_cndv           by the compset you use and the CLM_BLDNML_OPTS -dynamic_vegetation setting\n",
      "! Set use_vichydro       by the compset you use and the CLM_BLDNML_OPTS -vichydro           setting\n",
      "! Set use_cn             by the compset you use and CLM_BLDNML_OPTS -bgc  setting\n",
      "! Set use_crop           by the compset you use and CLM_BLDNML_OPTS -crop setting\n",
      "! Set spinup_state       by the CLM_BLDNML_OPTS -bgc_spinup      setting\n",
      "! Set co2_ppmv           with CCSM_CO2_PPMV                      option\n",
      "! Set dtime              with L_NCPL                             option\n",
      "! Set fatmlndfrc         with LND_DOMAIN_PATH/LND_DOMAIN_FILE    options\n",
      "! Set finidat            with RUN_REFCASE/RUN_REFDATE/RUN_REFTOD options for hybrid or branch cases\n",
      "!                        (includes $inst_string for multi-ensemble cases)\n",
      "!                        or with CLM_FORCE_COLDSTART to do a cold start\n",
      "!                        or set it with an explicit filename here.\n",
      "! Set maxpatch_glcmec    with GLC_NEC                            option\n",
      "! Set glc_do_dynglacier  with GLC_TWO_WAY_COUPLING               env variable\n",
      "!----------------------------------------------------------------------------------\n",
      "\n",
      "use_fates_sp=.true.\n",
      "use_fates_nocomp=.true.\n",
      "use_fates_fixed_biogeog=.true.\n",
      "fates_paramfile='pftfilename_default'\n"
     ]
    }
   ],
   "source": [
    "%%bash -s \"$ctsmrepo\" \"$defcase\" \"$notebookdr\" \"$paramsdir\" \"$hydro\"\n",
    "\n",
    "ctsmrepo=$1\n",
    "echo $ctsmrepo\n",
    "defcase=$2\n",
    "notebookdr=$3\n",
    "paramsdir=$4\n",
    "hydro=$5\n",
    "\n",
    "echo $paramsdir\n",
    "cd /glade/work/$USER/git/$ctsmrepo/cime/scripts\n",
    "pwd\n",
    "\n",
    "cp  $defcase/user_nl_clm $notebookdr/$paramsdir/user_nl_clm_default\n",
    "\n",
    "echo $notebookdr/$paramsdir/\n",
    "cd $notebookdr/$paramsdir/\n",
    "pwd\n",
    "pftfilename_def=$notebookdr/$paramsdir\n",
    "\n",
    "echo use_fates_sp=.true. >> user_nl_clm_default\n",
    "echo use_fates_nocomp=.true. >> user_nl_clm_default\n",
    "echo use_fates_fixed_biogeog=.true. >> user_nl_clm_default\n",
    "echo fates_paramfile=\\'\\pftfilename_default\\' >> user_nl_clm_default\n",
    "\n",
    "if [ $hydro -eq 1 ]\n",
    "then\n",
    "echo use_fates_planthydro=.true. >> user_nl_clm_default\n",
    "fi\n",
    "\n",
    "cat  $notebookdr/$paramsdir/user_nl_clm_default"
   ]
  },
  {
   "cell_type": "markdown",
   "metadata": {},
   "source": [
    "<h3> Make ensemble of cases.</h3>"
   ]
  },
  {
   "cell_type": "code",
   "execution_count": 8,
   "metadata": {},
   "outputs": [
    {
     "name": "stdout",
     "output_type": "stream",
     "text": [
      "14\n",
      "spfates_noc4_n\n",
      "SPfates_ens_noc4\n",
      "ctsmsept20\n",
      "/glade/work/rfisher/git/ctsmsept20/cime/scripts\n",
      "directory already exists\n",
      " new case already exists,SPfates_ens_noc4/spfates_noc4_n0\n",
      " new case already exists,SPfates_ens_noc4/spfates_noc4_n1\n",
      " new case already exists,SPfates_ens_noc4/spfates_noc4_n2\n",
      " new case already exists,SPfates_ens_noc4/spfates_noc4_n3\n",
      " new case already exists,SPfates_ens_noc4/spfates_noc4_n4\n",
      " new case already exists,SPfates_ens_noc4/spfates_noc4_n5\n",
      " new case already exists,SPfates_ens_noc4/spfates_noc4_n6\n",
      " new case already exists,SPfates_ens_noc4/spfates_noc4_n7\n",
      " new case already exists,SPfates_ens_noc4/spfates_noc4_n8\n",
      " new case already exists,SPfates_ens_noc4/spfates_noc4_n9\n",
      " new case already exists,SPfates_ens_noc4/spfates_noc4_n10\n",
      " new case already exists,SPfates_ens_noc4/spfates_noc4_n11\n",
      " new case already exists,SPfates_ens_noc4/spfates_noc4_n12\n",
      " new case already exists,SPfates_ens_noc4/spfates_noc4_n13\n",
      " new case already exists,SPfates_ens_noc4/spfates_noc4_n14\n"
     ]
    }
   ],
   "source": [
    "%%bash -s \"$ctsmrepo\" \"$defcase\" \"$ens_directory\" \"$caseroot\" $ncases \"$forcenewcase\"\n",
    "\n",
    "ctsmrepo=$1\n",
    "defcase=$2\n",
    "ens_directory=$3\n",
    "caseroot=$4\n",
    "ncases=$5\n",
    "forcenewcase=$6\n",
    "\n",
    "echo $ncases\n",
    "echo $caseroot\n",
    "echo $ens_directory\n",
    "echo $ctsmrepo\n",
    "\n",
    "cd /glade/work/$USER/git/$ctsmrepo/cime/scripts\n",
    "pwd\n",
    "\n",
    "if [[ -d \"$ens_directory\" ]]\n",
    "then\n",
    "echo \"directory already exists\"\n",
    "else\n",
    "mkdir $ens_directory\n",
    "fi \n",
    "\n",
    "counter1=0 #include a default zero case. \n",
    "while [ $counter1 -le $ncases ]\n",
    "do\n",
    "  newcase=$caseroot$counter1\n",
    "  rm -rf $newcase \n",
    "  if [ -d $ens_directory/$newcase ]\n",
    "  then\n",
    "    echo ' new case already exists',$ens_directory/$newcase   \n",
    "  else\n",
    "   echo 'making', $newcase\n",
    "    ./create_clone --clone $defcase --case $ens_directory/$newcase ;\n",
    "    cd $ens_directory/$newcase \n",
    "    ./case.setup;\n",
    "    cd ../../\n",
    "  fi\n",
    "  if [ $forcenewcase -eq 1 ]\n",
    "  then\n",
    "   echo 'force making', $ens_directory/$newcase\n",
    "    rm -rf $ens_directory/$newcase\n",
    "    ./create_clone --clone $defcase --case $ens_directory/$newcase ;\n",
    "    cd $ens_directory/$newcase\n",
    "    ./case.setup;\n",
    "    cd ../../\n",
    "  fi\n",
    "\n",
    "  ((counter1++))\n",
    "  done    \n"
   ]
  },
  {
   "cell_type": "markdown",
   "metadata": {},
   "source": [
    "<h3> Create .nc version of current defualt file. I FAILED ATT THIS. NEEDS INPUT..</h3>\n",
    "You currently have to do this step manually, by doing this in the terminal:\n",
    "\n",
    "<i> cd /glade/work/$USER/git/$ctsmrepo/src/fates/parameter_files/</i><br>\n",
    "<i>ncgen -o fates_params_default.nc fates_params_default.cdl </i>"
   ]
  },
  {
   "cell_type": "markdown",
   "metadata": {},
   "source": [
    "<h3> Make a directory for the parameter files to go in and copy default .nc parameter file there. </h3>"
   ]
  },
  {
   "cell_type": "code",
   "execution_count": 9,
   "metadata": {},
   "outputs": [
    {
     "name": "stdout",
     "output_type": "stream",
     "text": [
      "ctsmsept20\n",
      "ctsmsept20\n",
      "existing param firectory\n",
      "/glade/u/home/rfisher/fates_sp_ensembles/param_files_sp_noc4\n",
      "fates_params_default_noc4.nc\n"
     ]
    }
   ],
   "source": [
    "%%bash -s \"$ctsmrepo\" \"$notebookdr\"  \"$paramsdir\" \"$paramfiledefault\"\n",
    "echo $1\n",
    "ctsmrepo=$1\n",
    "notebookdr=$2\n",
    "paramsdir=$3\n",
    "paramfiledefault=$4\n",
    "echo $ctsmrepo\n",
    "\n",
    "\n",
    "cd $notebookdr\n",
    "if [[ -d \"$paramsdir\" ]]\n",
    "then\n",
    "   cd $paramsdir\n",
    "   echo \"existing param firectory\"\n",
    "else \n",
    "    mkdir $paramsdir\n",
    "    cd $paramsdir\n",
    "    echo \"made param firectory\"\n",
    "fi\n",
    "pwd\n",
    "echo $paramfiledefault\n",
    "cp /glade/work/$USER/git/$ctsmrepo/src/fates/parameter_files/$paramfiledefault $paramfiledefault\n",
    "\n"
   ]
  },
  {
   "cell_type": "markdown",
   "metadata": {},
   "source": [
    "<h3>Mpdify default parameter file</h3>"
   ]
  },
  {
   "cell_type": "code",
   "execution_count": 10,
   "metadata": {},
   "outputs": [
    {
     "name": "stdout",
     "output_type": "stream",
     "text": [
      "param_files_sp_noc4\n",
      "/glade/u/home/rfisher/fates_sp_ensembles/param_files_sp_noc4/fates_params_update_0.nc\n",
      "/glade/u/home/rfisher/fates_sp_ensembles/param_files_sp_noc4/fates_params_default_noc4.nc\n",
      "/glade/u/home/rfisher/fates_sp_ensembles/param_files_sp_noc4/fates_params_update_0.nc\n",
      "/glade/u/home/rfisher/fates_sp_ensembles/param_files_sp_noc4/fates_params_update_1.nc\n",
      "/glade/u/home/rfisher/fates_sp_ensembles/param_files_sp_noc4/fates_params_default_noc4.nc\n",
      "/glade/u/home/rfisher/fates_sp_ensembles/param_files_sp_noc4/fates_params_update_1.nc\n",
      "/glade/u/home/rfisher/fates_sp_ensembles/param_files_sp_noc4/fates_params_update_2.nc\n",
      "/glade/u/home/rfisher/fates_sp_ensembles/param_files_sp_noc4/fates_params_default_noc4.nc\n",
      "/glade/u/home/rfisher/fates_sp_ensembles/param_files_sp_noc4/fates_params_update_2.nc\n",
      "/glade/u/home/rfisher/fates_sp_ensembles/param_files_sp_noc4/fates_params_update_3.nc\n",
      "/glade/u/home/rfisher/fates_sp_ensembles/param_files_sp_noc4/fates_params_default_noc4.nc\n",
      "/glade/u/home/rfisher/fates_sp_ensembles/param_files_sp_noc4/fates_params_update_3.nc\n",
      "/glade/u/home/rfisher/fates_sp_ensembles/param_files_sp_noc4/fates_params_update_4.nc\n",
      "/glade/u/home/rfisher/fates_sp_ensembles/param_files_sp_noc4/fates_params_default_noc4.nc\n",
      "/glade/u/home/rfisher/fates_sp_ensembles/param_files_sp_noc4/fates_params_update_4.nc\n",
      "/glade/u/home/rfisher/fates_sp_ensembles/param_files_sp_noc4/fates_params_update_5.nc\n",
      "/glade/u/home/rfisher/fates_sp_ensembles/param_files_sp_noc4/fates_params_default_noc4.nc\n",
      "/glade/u/home/rfisher/fates_sp_ensembles/param_files_sp_noc4/fates_params_update_5.nc\n",
      "/glade/u/home/rfisher/fates_sp_ensembles/param_files_sp_noc4/fates_params_update_6.nc\n",
      "/glade/u/home/rfisher/fates_sp_ensembles/param_files_sp_noc4/fates_params_default_noc4.nc\n",
      "/glade/u/home/rfisher/fates_sp_ensembles/param_files_sp_noc4/fates_params_update_6.nc\n",
      "/glade/u/home/rfisher/fates_sp_ensembles/param_files_sp_noc4/fates_params_update_7.nc\n",
      "/glade/u/home/rfisher/fates_sp_ensembles/param_files_sp_noc4/fates_params_default_noc4.nc\n",
      "/glade/u/home/rfisher/fates_sp_ensembles/param_files_sp_noc4/fates_params_update_7.nc\n",
      "/glade/u/home/rfisher/fates_sp_ensembles/param_files_sp_noc4/fates_params_update_8.nc\n",
      "/glade/u/home/rfisher/fates_sp_ensembles/param_files_sp_noc4/fates_params_default_noc4.nc\n",
      "/glade/u/home/rfisher/fates_sp_ensembles/param_files_sp_noc4/fates_params_update_8.nc\n",
      "/glade/u/home/rfisher/fates_sp_ensembles/param_files_sp_noc4/fates_params_update_9.nc\n",
      "/glade/u/home/rfisher/fates_sp_ensembles/param_files_sp_noc4/fates_params_default_noc4.nc\n",
      "/glade/u/home/rfisher/fates_sp_ensembles/param_files_sp_noc4/fates_params_update_9.nc\n",
      "/glade/u/home/rfisher/fates_sp_ensembles/param_files_sp_noc4/fates_params_update_10.nc\n",
      "/glade/u/home/rfisher/fates_sp_ensembles/param_files_sp_noc4/fates_params_default_noc4.nc\n",
      "/glade/u/home/rfisher/fates_sp_ensembles/param_files_sp_noc4/fates_params_update_10.nc\n",
      "/glade/u/home/rfisher/fates_sp_ensembles/param_files_sp_noc4/fates_params_update_11.nc\n",
      "/glade/u/home/rfisher/fates_sp_ensembles/param_files_sp_noc4/fates_params_default_noc4.nc\n",
      "/glade/u/home/rfisher/fates_sp_ensembles/param_files_sp_noc4/fates_params_update_11.nc\n",
      "/glade/u/home/rfisher/fates_sp_ensembles/param_files_sp_noc4/fates_params_update_12.nc\n",
      "/glade/u/home/rfisher/fates_sp_ensembles/param_files_sp_noc4/fates_params_default_noc4.nc\n",
      "/glade/u/home/rfisher/fates_sp_ensembles/param_files_sp_noc4/fates_params_update_12.nc\n",
      "/glade/u/home/rfisher/fates_sp_ensembles/param_files_sp_noc4/fates_params_update_13.nc\n",
      "/glade/u/home/rfisher/fates_sp_ensembles/param_files_sp_noc4/fates_params_default_noc4.nc\n",
      "/glade/u/home/rfisher/fates_sp_ensembles/param_files_sp_noc4/fates_params_update_13.nc\n",
      "/glade/u/home/rfisher/fates_sp_ensembles/param_files_sp_noc4/fates_params_update_14.nc\n",
      "/glade/u/home/rfisher/fates_sp_ensembles/param_files_sp_noc4/fates_params_default_noc4.nc\n",
      "/glade/u/home/rfisher/fates_sp_ensembles/param_files_sp_noc4/fates_params_update_14.nc\n"
     ]
    }
   ],
   "source": [
    "import netCDF4 as nc4\n",
    "import sys\n",
    "import os\n",
    "import shutil\n",
    "\n",
    "def copy_clobber(filename1, filename2):\n",
    "    try:\n",
    "        os.remove(filename2)\n",
    "       # print('replacing file: '+filename2)\n",
    "    except:\n",
    "        print('file does not yet exist: '+filename2)\n",
    "    shutil.copyfile(filename1, filename2)\n",
    "\n",
    "\n",
    "filename_template = notebookdr+'/'+paramsdir+'/'+paramfiledefault\n",
    "\n",
    "def def_pftfile(notebookdr, paramsdir,i,variable,delta):\n",
    "    filename_out= notebookdr+'/'+paramsdir+'/fates_params_update_'+str(i)+'.nc'\n",
    "    print(filename_out)\n",
    "    print(filename_template)\n",
    "    copy_clobber(filename_template,filename_out)\n",
    "\n",
    "    fin = nc4.Dataset(filename_out, 'r+')\n",
    "    print(filename_out)\n",
    "    var = fin.variables[variable]\n",
    "    var[:] = var[:]*delta\n",
    "    fin.close()\n",
    "    \n",
    "#1 fates_leaf_clumping_index +-10% (not above 1)\n",
    "#2 fates_leaf_diameter +- 20%\n",
    "#3 fates_leaf_stomatal_slope_ballberry +- 20%\n",
    "#4 fates_leaf_vcmax25top +- 20%\n",
    "#5 Fates_leaf_xl = +- 20%\n",
    "#6 fates_rholvis=+-20-%\n",
    "#7 Fates_smpsc=+-20%\n",
    "#default    \n",
    "print(paramsdir)\n",
    "def_pftfile(notebookdr, paramsdir,0,'fates_leaf_clumping_index',1.0)\n",
    "\n",
    "    \n",
    "def_pftfile(notebookdr, paramsdir,1,'fates_leaf_clumping_index',0.9)\n",
    "def_pftfile(notebookdr, paramsdir,2,'fates_leaf_clumping_index',1.1)\n",
    "\n",
    "def_pftfile(notebookdr, paramsdir,3,'fates_leaf_diameter',0.8)\n",
    "def_pftfile(notebookdr, paramsdir,4,'fates_leaf_diameter',1.2)\n",
    "\n",
    "def_pftfile(notebookdr, paramsdir,5,'fates_leaf_stomatal_slope_ballberry',0.8)\n",
    "def_pftfile(notebookdr, paramsdir,6,'fates_leaf_stomatal_slope_ballberry',1.2)\n",
    "\n",
    "def_pftfile(notebookdr, paramsdir,7,'fates_leaf_vcmax25top',0.8)\n",
    "def_pftfile(notebookdr, paramsdir,8,'fates_leaf_vcmax25top',1.2)\n",
    "\n",
    "def_pftfile(notebookdr, paramsdir,9,'fates_leaf_xl',0.8)\n",
    "def_pftfile(notebookdr, paramsdir,10,'fates_leaf_xl',1.2)\n",
    "\n",
    "def_pftfile(notebookdr, paramsdir,11,'fates_rholvis',0.8)\n",
    "def_pftfile(notebookdr, paramsdir,12,'fates_rholvis',1.2)\n",
    "\n",
    "def_pftfile(notebookdr, paramsdir,13,'fates_smpsc',0.8)\n",
    "def_pftfile(notebookdr, paramsdir,14,'fates_smpsc',1.2)\n",
    "\n"
   ]
  },
  {
   "cell_type": "markdown",
   "metadata": {},
   "source": [
    "<h3> Point each ensemble script at different parameter file </h3>"
   ]
  },
  {
   "cell_type": "code",
   "execution_count": 11,
   "metadata": {},
   "outputs": [
    {
     "name": "stdout",
     "output_type": "stream",
     "text": [
      "!----------------------------------------------------------------------------------\n",
      "! Users should add all user specific namelist changes below in the form of \n",
      "! namelist_var = new_namelist_value \n",
      "!\n",
      "! EXCEPTIONS: \n",
      "! Set use_cndv           by the compset you use and the CLM_BLDNML_OPTS -dynamic_vegetation setting\n",
      "! Set use_vichydro       by the compset you use and the CLM_BLDNML_OPTS -vichydro           setting\n",
      "! Set use_cn             by the compset you use and CLM_BLDNML_OPTS -bgc  setting\n",
      "! Set use_crop           by the compset you use and CLM_BLDNML_OPTS -crop setting\n",
      "! Set spinup_state       by the CLM_BLDNML_OPTS -bgc_spinup      setting\n",
      "! Set co2_ppmv           with CCSM_CO2_PPMV                      option\n",
      "! Set dtime              with L_NCPL                             option\n",
      "! Set fatmlndfrc         with LND_DOMAIN_PATH/LND_DOMAIN_FILE    options\n",
      "! Set finidat            with RUN_REFCASE/RUN_REFDATE/RUN_REFTOD options for hybrid or branch cases\n",
      "!                        (includes $inst_string for multi-ensemble cases)\n",
      "!                        or with CLM_FORCE_COLDSTART to do a cold start\n",
      "!                        or set it with an explicit filename here.\n",
      "! Set maxpatch_glcmec    with GLC_NEC                            option\n",
      "! Set glc_do_dynglacier  with GLC_TWO_WAY_COUPLING               env variable\n",
      "!----------------------------------------------------------------------------------\n",
      "\n",
      "use_fates_sp=.true.\n",
      "use_fates_nocomp=.true.\n",
      "use_fates_fixed_biogeog=.true.\n",
      "fates_paramfile='/glade/u/home/rfisher/fates_sp_ensembles/param_files_sp_noc4/fates_params_update_14.nc'\n"
     ]
    }
   ],
   "source": [
    "%%bash -s \"$ctsmrepo\" \"$defcase\" \"$ens_directory\" \"$caseroot\" $ncases \"$notebookdr\"  \"$paramsdir\"\n",
    "\n",
    "ctsmrepo=$1\n",
    "defcase=$2\n",
    "ens_directory=$3\n",
    "caseroot=$4\n",
    "ncases=$5\n",
    "forcenewcase=1\n",
    "notebookdir=$6\n",
    "paramsdir=$7\n",
    "\n",
    "unl=user_nl_clm\n",
    "cd /glade/work/$USER/git/$ctsmrepo/cime/scripts\n",
    "counter1=0\n",
    "cd $ens_directory\n",
    "#cat $notebookdir/$paramsdir/user_nl_clm_default\n",
    "while [ $counter1 -le $ncases ]\n",
    "do\n",
    "  newcase=$caseroot$counter1\n",
    "  pftfilename=$notebookdir/$paramsdir/fates_params_update_$counter1.nc\n",
    "  if [ -d $newcase ]\n",
    "  then\n",
    "   cd $newcase\n",
    "   #get default parameter file\n",
    "    cp $notebookdir/$paramsdir/user_nl_clm_default user_nl_clm\n",
    "    sed -i \"s|pftfilename_default|$pftfilename|g\" user_nl_clm\n",
    "    cd ../\n",
    "  else\n",
    "   echo 'no case', $newcase\n",
    "  fi\n",
    "\n",
    "\n",
    "  ((counter1++))\n",
    "  done\n",
    "cat $newcase/user_nl_clm"
   ]
  },
  {
   "cell_type": "markdown",
   "metadata": {},
   "source": [
    "<h3>Submit ensemble of cases</h3>"
   ]
  },
  {
   "cell_type": "code",
   "execution_count": 12,
   "metadata": {},
   "outputs": [
    {
     "name": "stdout",
     "output_type": "stream",
     "text": [
      "not submitting jobs\n"
     ]
    }
   ],
   "source": [
    "%%bash -s \"$ctsmrepo\" \"$defcase\" \"$ens_directory\" \"$caseroot\" $ncases \"$dosubmit\" \n",
    "\n",
    "ctsmrepo=$1\n",
    "defcase=$2\n",
    "ens_directory=$3\n",
    "caseroot=$4\n",
    "ncases=$5\n",
    "dosubmit=$6\n",
    "\n",
    "\n",
    "if [ $dosubmit -eq 1 ]\n",
    "then\n",
    "cd /glade/work/$USER/git/$ctsmrepo/cime/scripts\n",
    "\n",
    "counter1=0\n",
    "cd $ens_directory\n",
    "pwd\n",
    "ls -l\n",
    "while [ $counter1 -le $ncases ]\n",
    "do\n",
    "  echo $counter1\n",
    "  newcase=$caseroot$counter1\n",
    "  echo $newcase\n",
    "\n",
    "  if [ -d $newcase ]\n",
    "  then\n",
    "    cd $newcase\n",
    "    echo 'submitting job',$newcase\n",
    "    ./xmlchange BUILD_COMPLETE=TRUE\n",
    "    ./case.submit;\n",
    "    cd ../\n",
    "  else\n",
    "   echo 'no case', $newcase\n",
    "  fi\n",
    "\n",
    "  ((counter1++))\n",
    "  done\n",
    "else\n",
    "echo \"not submitting jobs\"\n",
    "fi"
   ]
  },
  {
   "cell_type": "markdown",
   "metadata": {},
   "source": [
    "<h2>Analyse output</h2>"
   ]
  },
  {
   "cell_type": "code",
   "execution_count": 13,
   "metadata": {},
   "outputs": [],
   "source": [
    "%matplotlib inline\n",
    "import numpy as np\n",
    "import warnings\n",
    "warnings.filterwarnings('ignore')\n",
    "import xarray as xr\n",
    "from matplotlib import pyplot as plt\n",
    "import datetime\n",
    "import cartopy\n",
    "import cartopy.crs as ccrs\n",
    "import os.path\n",
    "import xesmf as xe"
   ]
  },
  {
   "cell_type": "code",
   "execution_count": 14,
   "metadata": {},
   "outputs": [],
   "source": [
    "\n",
    "titles=['clumping_index -','clumping_index +','leaf_diameter -','leaf_diameter +',\n",
    "           'stomatal_slope -','stomatal_slope +','vcmax25top -','vcmax25top +',\n",
    "           'leaf_xl -','leaf_xl +','rholvis -','rholvis +',    \n",
    "           'smpsc -','smpsc +' ]\n",
    "output='/glade/scratch/rfisher/'\n",
    "conv = 3600*24*365\n",
    "yr='.clm2.h0.'"
   ]
  },
  {
   "cell_type": "markdown",
   "metadata": {},
   "source": []
  },
  {
   "cell_type": "markdown",
   "metadata": {},
   "source": [
    "<h3> Get ILAMB data</h3>"
   ]
  },
  {
   "cell_type": "code",
   "execution_count": 15,
   "metadata": {},
   "outputs": [],
   "source": [
    "if doanalysis ==1: \n",
    "    filenameb ='/glade/u/home/rfisher/GBAF_Benchmark.nc'\n",
    "    gppbm = xr.open_dataset(filenameb,group='MeanState')\n",
    "\n",
    "    filenameb ='/glade/u/home/rfisher/MODIS_Benchmark.nc'\n",
    "    etbm = xr.open_dataset(filenameb,group='MeanState')\n",
    "\n",
    "    filenameef ='/glade/u/home/rfisher/GBAF_Benchmark_EF.nc'\n",
    "    efbm = xr.open_dataset(filenameef,group='MeanState')\n"
   ]
  },
  {
   "cell_type": "markdown",
   "metadata": {},
   "source": [
    "<h3> Regrid ILAMB data</h3>"
   ]
  },
  {
   "cell_type": "code",
   "execution_count": 16,
   "metadata": {},
   "outputs": [
    {
     "name": "stdout",
     "output_type": "stream",
     "text": [
      "Create weight file: bilinear_360x720_45x72.nc\n",
      "Remove file bilinear_360x720_45x72.nc\n",
      "Create weight file: bilinear_360x720_45x72.nc\n",
      "Remove file bilinear_360x720_45x72.nc\n",
      "Create weight file: bilinear_360x720_45x72.nc\n",
      "Remove file bilinear_360x720_45x72.nc\n"
     ]
    },
    {
     "data": {
      "text/plain": [
       "<matplotlib.collections.QuadMesh at 0x2b1f36da7978>"
      ]
     },
     "execution_count": 16,
     "metadata": {},
     "output_type": "execute_result"
    },
    {
     "data": {
      "image/png": "[encoded data removed]",
      "text/plain": [
       "<Figure size 432x288 with 2 Axes>"
      ]
     },
     "metadata": {
      "needs_background": "light"
     },
     "output_type": "display_data"
    }
   ],
   "source": [
    "ds=gppbm.timeint_of_gpp\n",
    "ds_out = xr.Dataset({'lat': (['lat'], np.arange(-90, 90, 4.0)),\n",
    "                     'lon': (['lon'], np.arange(-180, 180, 5.0)),\n",
    "                    }\n",
    "                   )\n",
    "regridder = xe.Regridder(ds, ds_out, 'bilinear')\n",
    "regridder.clean_weight_file()\n",
    "regridder\n",
    "ds_out_obs = regridder(ds)\n",
    "ds_out_obs = ds_out_obs.where(ds_out_obs<10000,0,0)\n",
    "\n",
    "ds=etbm.timeint_of_et\n",
    "regridder = xe.Regridder(ds, ds_out, 'bilinear')\n",
    "regridder.clean_weight_file()\n",
    "regridder\n",
    "ds_out_ET_obs = regridder(ds)\n",
    "ds_out_ET_obs = ds_out_obs.where(ds_out_ET_obs<10000,0,0)\n",
    "#ds_out_ET_obs.plot()\n",
    "\n",
    "ds=efbm.timeint_of_EvapFrac\n",
    "regridder = xe.Regridder(ds, ds_out, 'bilinear')\n",
    "regridder.clean_weight_file()\n",
    "regridder\n",
    "ds_out_EF_obs = regridder(ds)\n",
    "ds_out_EF_obs = ds_out_EF_obs.where(ds_out_EF_obs<10000,0,0)\n",
    "ds_out_EF_obs.plot(vmax=1,cmap='jet')\n",
    "\n"
   ]
  },
  {
   "cell_type": "markdown",
   "metadata": {},
   "source": [
    "<h4>Default ensemble member</h4>"
   ]
  },
  {
   "cell_type": "code",
   "execution_count": 17,
   "metadata": {},
   "outputs": [
    {
     "name": "stdout",
     "output_type": "stream",
     "text": [
      "/glade/scratch/rfisher/archive/spfates_noc4_n0/lnd/hist/spfates_noc4_n0.clm2.h0.2009-01.nc\n",
      "/glade/scratch/rfisher/archive/spfates_noc4_n0/lnd/hist/\n"
     ]
    }
   ],
   "source": [
    "\n",
    "run=caseroot+str(0)\n",
    "arc = output + 'archive/' + run + '/lnd/hist/'\n",
    "# arc = output + run + '/run/'   \n",
    "f2=(arc +run+yr+str(ychoose)+'-01.nc') \n",
    "print(f2)\n",
    "if(os.path.isfile(f2)):\n",
    "    dsdef = xr.open_mfdataset(arc +run+yr+str(ychoose)+'*', decode_times=False)\n",
    "else:\n",
    "    arc = output + run + '/run/'\n",
    "    dsdef = xr.open_mfdataset(arc +run+yr+str(ychoose)+'*', decode_times=False)\n",
    "print(arc)"
   ]
  },
  {
   "cell_type": "markdown",
   "metadata": {},
   "source": [
    "<h3>Make output figure directory</h3>"
   ]
  },
  {
   "cell_type": "code",
   "execution_count": 18,
   "metadata": {},
   "outputs": [
    {
     "name": "stdout",
     "output_type": "stream",
     "text": [
      "existing fig firectory\n"
     ]
    }
   ],
   "source": [
    "%%bash -s \"$notebookdr\"  \n",
    "notebookdr=$2\n",
    "\n",
    "cd $notebookdr\n",
    "if [[ -d \"figs\" ]]\n",
    "then\n",
    "   echo \"existing fig firectory\"\n",
    "else \n",
    "    mkdir figs\n",
    "    echo \"made fig firectory\"\n",
    "fi"
   ]
  },
  {
   "cell_type": "markdown",
   "metadata": {},
   "source": [
    "<h3>Read in selected year of output data</h3>"
   ]
  },
  {
   "cell_type": "markdown",
   "metadata": {},
   "source": [
    "<h3>GPP</h3>"
   ]
  },
  {
   "cell_type": "code",
   "execution_count": 62,
   "metadata": {},
   "outputs": [
    {
     "name": "stdout",
     "output_type": "stream",
     "text": [
      "[1, 2, 5, 6, 7, 8]\n",
      "1\n",
      "/glade/scratch/rfisher/archive/spfates_noc4_n1/lnd/hist/\n",
      "2\n",
      "/glade/scratch/rfisher/spfates_noc4_n2/run/\n",
      "5\n",
      "/glade/scratch/rfisher/archive/spfates_noc4_n5/lnd/hist/\n",
      "6\n",
      "/glade/scratch/rfisher/archive/spfates_noc4_n6/lnd/hist/\n",
      "7\n",
      "/glade/scratch/rfisher/archive/spfates_noc4_n7/lnd/hist/\n",
      "8\n",
      "/glade/scratch/rfisher/spfates_noc4_n8/run/\n",
      "figs/ensemble_GPP_delta_spfates_noc4_n.png\n"
     ]
    },
    {
     "data": {
      "image/png": "[encoded data removed]",
      "text/plain": [
       "<Figure size 1080x504 with 12 Axes>"
      ]
     },
     "metadata": {
      "needs_background": "light"
     },
     "output_type": "display_data"
    }
   ],
   "source": [
    "import time\n",
    "delta=1\n",
    "if doanalysis ==1:\n",
    "    conv=24*3600  \n",
    "    fig = plt.figure()\n",
    "    plt.rcParams['figure.figsize'] = [15,7]\n",
    "    fig.subplots_adjust(hspace=0.1, wspace=0.1)\n",
    "    vs=[1, 2, 5,6, 7, 8]\n",
    "    print(vs)\n",
    "    count=1\n",
    "    ncol=3\n",
    "    for i in vs:\n",
    "        print(i)\n",
    "        index=((count+1) % 2)*ncol + ((count+1) // 2)\n",
    "        ax = fig.add_subplot( 2, ncol,index)\n",
    "        count=count+1\n",
    "        run=caseroot+str(i)\n",
    "        arc = output + 'archive/' + run + '/lnd/hist/'\n",
    "       # arc = output + run + '/run/'\n",
    "        f2=(arc +run+yr+str(ychoose)+'-01.nc') \n",
    "        if(os.path.isfile(f2)):\n",
    "            ds0 = xr.open_mfdataset(arc +run+yr+str(ychoose)+'*', decode_times=False)\n",
    "        else:\n",
    "            arc = output + run + '/run/'\n",
    "            ds0 = xr.open_mfdataset(arc +run+yr+str(ychoose)+'*', decode_times=False)\n",
    "        print(arc) \n",
    "        \n",
    "        if(delta == 1):\n",
    "             delt=np.multiply(np.mean(ds0.GPP,0),conv)-np.multiply(np.mean(dsdef.GPP,0),conv)\n",
    "             plt1=delt.plot(vmin=-1, vmax=1,cmap='RdYlBu') \n",
    "        else:\n",
    "             ds=np.multiply(np.mean(ds0.GPP,0),conv)\n",
    "             ds_out_model = xr.Dataset({'lat': (['lat'], np.arange(-90, 90, 4.0)),\n",
    "                     'lon': (['lon'], np.arange(-180, 180, 5)),})\n",
    "             regridder = xe.Regridder(ds, ds_out_model, 'bilinear')\n",
    "             regridder.clean_weight_file()\n",
    "             regridder\n",
    "             ds_out_model = regridder(ds)\n",
    "             diff=ds_out_model-ds_out_obs\n",
    "             plt1=diff.plot(vmin=-5, vmax=5,cmap='RdYlBu') \n",
    "        \n",
    "        ax.set_title(titles[i-1]) \n",
    "        ax.get_xaxis().set_visible(False)\n",
    "        ax.get_yaxis().set_visible(False)\n",
    "        \n",
    "        fig.canvas.draw()\n",
    "        time.sleep(1)  \n",
    "\n",
    "if(delta == 1):\n",
    "    fnmfig='figs/ensemble_GPP_delta_'+caseroot+'.png'\n",
    "else:\n",
    "    fnmfig='figs/ensemble_GPP__error_'+caseroot+'.png'\n",
    "print(fnmfig)\n",
    "plt.savefig(fnmfig)\n"
   ]
  },
  {
   "cell_type": "markdown",
   "metadata": {},
   "source": [
    "<h3>ET</h3>"
   ]
  },
  {
   "cell_type": "code",
   "execution_count": 20,
   "metadata": {},
   "outputs": [
    {
     "name": "stdout",
     "output_type": "stream",
     "text": [
      "1\n",
      "8\n",
      "3\n",
      "10\n",
      "4\n",
      "11\n"
     ]
    }
   ],
   "source": [
    "for i in vs:\n",
    "    rem = (i+1) % 2\n",
    "    quotient = (i+1) // 2\n",
    "    index=((i+1) % 2)*7 + ((i+1) // 2)\n",
    "    print(index)\n",
    "    \n",
    "#    1 2 3 4 5 6 7 \n",
    "#    8 9 10 11 12 13 14\n",
    "\n",
    "#    input\n",
    "#    1 3 5 7 9  11 13\n",
    "#    2 4 6 8 10 12 14\n",
    "    \n",
    "#    output\n",
    "#    1 2 3 4 5 6 7 \n",
    "#    8 9 10 11 12 13 14\n",
    "##    in out\n",
    " #   if even, use 7*1\n",
    " #   if odd use 7 *0 \n",
    "#    7*rem\n",
    "#    1 1  1\n",
    "##   2 8  1\n",
    "##   3 2  2\n",
    "#    4 9  2\n",
    "#    5 3  3\n",
    "#    6 10 3\n",
    "    "
   ]
  },
  {
   "cell_type": "code",
   "execution_count": 63,
   "metadata": {},
   "outputs": [
    {
     "name": "stdout",
     "output_type": "stream",
     "text": [
      "[1, 2, 5, 6, 7, 8]\n",
      "1\n",
      "1\n",
      "/glade/scratch/rfisher/archive/spfates_noc4_n1/lnd/hist/\n",
      "2\n",
      "4\n",
      "/glade/scratch/rfisher/spfates_noc4_n2/run/\n",
      "5\n",
      "2\n",
      "/glade/scratch/rfisher/archive/spfates_noc4_n5/lnd/hist/\n",
      "6\n",
      "5\n",
      "/glade/scratch/rfisher/archive/spfates_noc4_n6/lnd/hist/\n",
      "7\n",
      "3\n",
      "/glade/scratch/rfisher/archive/spfates_noc4_n7/lnd/hist/\n",
      "8\n",
      "6\n",
      "/glade/scratch/rfisher/spfates_noc4_n8/run/\n",
      "figs/ensemble_ET_delta_spfates_noc4_n8.png\n"
     ]
    },
    {
     "data": {
      "image/png": "[encoded data removed]",
      "text/plain": [
       "<Figure size 1080x504 with 12 Axes>"
      ]
     },
     "metadata": {
      "needs_background": "light"
     },
     "output_type": "display_data"
    }
   ],
   "source": [
    "import time\n",
    "delta=1\n",
    "if doanalysis ==1:\n",
    "    conv=24*3600\n",
    "    fig = plt.figure()\n",
    "    plt.rcParams['figure.figsize'] = [15,7]\n",
    "    fig.subplots_adjust(hspace=0.1, wspace=0.1)\n",
    "    vs=[1, 2, 5,6, 7, 8]\n",
    "    #vs=range(1,15)\n",
    "    print(vs)\n",
    "    count=1\n",
    "    ncol=3\n",
    "    for i in vs:\n",
    "        print(i)\n",
    "        index=((count+1) % 2)*ncol + ((count+1) // 2)\n",
    "        print(index)\n",
    "        ax = fig.add_subplot(2, ncol, index)\n",
    "        count=count+1\n",
    "        run=caseroot+str(i)\n",
    "        arc = output + 'archive/' + run + '/lnd/hist/'\n",
    "       # arc = output + run + '/run/'\n",
    "        f2=(arc +run+yr+str(ychoose)+'-01.nc') \n",
    "        if(os.path.isfile(f2)):\n",
    "            ds0 = xr.open_mfdataset(arc +run+yr+str(ychoose)+'*', decode_times=False)\n",
    "        else:\n",
    "            arc = output + run + '/run/'\n",
    "            ds0 = xr.open_mfdataset(arc +run+yr+str(ychoose)+'*', decode_times=False)\n",
    "        print(arc) \n",
    "        \n",
    "        if(delta == 1):\n",
    "             delt=np.multiply(np.mean(ds0.QFLX_EVAP_TOT,0),conv)-np.multiply(np.mean(dsdef.QFLX_EVAP_TOT,0),conv)\n",
    "             plt1=delt.plot(vmin=-0.2, vmax=0.2,cmap='RdYlBu') \n",
    "        else:\n",
    "             ds=np.multiply(np.mean(ds0.QFLX_EVAP_TOT,0),conv)\n",
    "             ds_out = xr.Dataset({'lat': (['lat'], np.arange(-90, 90, 4.0)),\n",
    "                     'lon': (['lon'], np.arange(-180, 180, 5)),})\n",
    "             regridder = xe.Regridder(ds, ds_out_model, 'bilinear')\n",
    "             regridder.clean_weight_file()\n",
    "             regridder\n",
    "             ds_out_model = regridder(ds)\n",
    "             diff=ds_out_model-ds_out_ET_obs\n",
    "             plt1=diff.plot(vmin=-6, vmax=6,cmap='RdYlBu') \n",
    "        \n",
    "\n",
    "        #plt1=ds_out_model.plot(vmin=0, vmax=12,cmap='bwr') \n",
    "        ax.set_title(titles[i-1]) \n",
    "        ax.get_xaxis().set_visible(False)\n",
    "        ax.get_yaxis().set_visible(False)\n",
    "        \n",
    "        fig.canvas.draw()\n",
    "        time.sleep(1) \n",
    "        \n",
    "if(delta == 1):\n",
    "    fnmfig='figs/ensemble_ET_delta_'+caseroot +str(i)+'.png'\n",
    "else:\n",
    "    fnmfig='figs/ensemble_ET__error_'+caseroot+str(i)+'.png'\n",
    "print(fnmfig)\n",
    "plt.savefig(fnmfig)"
   ]
  },
  {
   "cell_type": "markdown",
   "metadata": {},
   "source": [
    "<h3> Evap Frac </h3>"
   ]
  },
  {
   "cell_type": "code",
   "execution_count": 57,
   "metadata": {},
   "outputs": [
    {
     "name": "stdout",
     "output_type": "stream",
     "text": [
      "[1, 2, 5, 6, 7, 8]\n",
      "1\n",
      "/glade/scratch/rfisher/archive/spfates_noc4_n1/lnd/hist/\n",
      "2\n",
      "/glade/scratch/rfisher/spfates_noc4_n2/run/\n",
      "5\n",
      "/glade/scratch/rfisher/archive/spfates_noc4_n5/lnd/hist/\n",
      "6\n",
      "/glade/scratch/rfisher/archive/spfates_noc4_n6/lnd/hist/\n",
      "7\n",
      "/glade/scratch/rfisher/archive/spfates_noc4_n7/lnd/hist/\n",
      "8\n",
      "/glade/scratch/rfisher/spfates_noc4_n8/run/\n",
      "figs/ensemble_ET_delta_spfates_noc4_n.png\n"
     ]
    },
    {
     "data": {
      "image/png": "[encoded data removed]",
      "text/plain": [
       "<Figure size 1080x504 with 12 Axes>"
      ]
     },
     "metadata": {
      "needs_background": "light"
     },
     "output_type": "display_data"
    }
   ],
   "source": [
    "import time\n",
    "delta=1\n",
    "if doanalysis ==1:\n",
    "    conv=24*3600\n",
    "    fig = plt.figure()\n",
    "    plt.rcParams['figure.figsize'] = [15,7]\n",
    "    fig.subplots_adjust(hspace=0.1, wspace=0.1)\n",
    "    vs=[1, 2, 5,6, 7, 8]\n",
    "    print(vs)\n",
    "    count=1\n",
    "    ncol=3\n",
    "    for i in vs:\n",
    "        print(i)\n",
    "        index=((count+1) % 2)*ncol + ((count+1) // 2)\n",
    "        ax = fig.add_subplot( 2, ncol,index)\n",
    "        count=count+1\n",
    "        run=caseroot+str(i)\n",
    "        arc = output + 'archive/' + run + '/lnd/hist/'\n",
    "       # arc = output + run + '/run/'\n",
    "        f2=(arc +run+yr+str(ychoose)+'-01.nc') \n",
    "        if(os.path.isfile(f2)):\n",
    "            ds0 = xr.open_mfdataset(arc +run+yr+str(ychoose)+'*', decode_times=False)\n",
    "        else:\n",
    "            arc = output + run + '/run/'\n",
    "            ds0 = xr.open_mfdataset(arc +run+yr+str(ychoose)+'*', decode_times=False)\n",
    "        print(arc) \n",
    "        \n",
    "        if(delta == 1):\n",
    "             delt=np.multiply(np.mean(ds0.QFLX_EVAP_TOT,0),conv)-np.multiply(np.mean(dsdef.QFLX_EVAP_TOT,0),conv)\n",
    "             plt1=delt.plot(vmin=-0.2, vmax=0.2,cmap='RdYlBu') \n",
    "        else:\n",
    "             ds=np.multiply(np.mean(ds0.QFLX_EVAP_TOT,0),conv)\n",
    "             ds_out = xr.Dataset({'lat': (['lat'], np.arange(-90, 90, 4.0)),\n",
    "                     'lon': (['lon'], np.arange(-180, 180, 5)),})\n",
    "             regridder = xe.Regridder(ds, ds_out_model, 'bilinear')\n",
    "             regridder.clean_weight_file()\n",
    "             regridder\n",
    "             ds_out_model = regridder(ds)\n",
    "             diff=ds_out_model-ds_out_ET_obs\n",
    "             plt1=diff.plot(vmin=-6, vmax=6,cmap='RdYlBu') \n",
    "        \n",
    "\n",
    "        #plt1=ds_out_model.plot(vmin=0, vmax=12,cmap='bwr') \n",
    "        ax.set_title(titles[i-1]) \n",
    "        ax.get_xaxis().set_visible(False)\n",
    "        ax.get_yaxis().set_visible(False)\n",
    "        \n",
    "        fig.canvas.draw()\n",
    "        time.sleep(1)  \n",
    "\n",
    "if(delta == 1):\n",
    "    fnmfig='figs/ensemble_evapfrac_delta_'+caseroot+'.png'\n",
    "else:\n",
    "    fnmfig='figs/ensemble_evapfrac__error_'+caseroot+'.png'\n",
    "print(fnmfig)\n",
    "plt.savefig(fnmfig)\n"
   ]
  },
  {
   "cell_type": "code",
   "execution_count": null,
   "metadata": {},
   "outputs": [],
   "source": []
  }
 ],
 "metadata": {
  "kernelspec": {
   "display_name": "Pangeo (2019.09.12 - py3.7)",
   "language": "python",
   "name": "pangeo-2019.09.12"
  },
  "language_info": {
   "codemirror_mode": {
    "name": "ipython",
    "version": 3
   },
   "file_extension": ".py",
   "mimetype": "text/x-python",
   "name": "python",
   "nbconvert_exporter": "python",
   "pygments_lexer": "ipython3",
   "version": "3.7.3"
  }
 },
 "nbformat": 4,
 "nbformat_minor": 4
}
