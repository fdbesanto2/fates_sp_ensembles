{
 "cells": [
  {
   "cell_type": "markdown",
   "metadata": {},
   "source": [
    "Set global variables and paths for ensemble analysis "
   ]
  },
  {
   "cell_type": "code",
   "execution_count": 1,
   "metadata": {},
   "outputs": [],
   "source": [
    "#set global variables to pass into BASH commands. \n",
    "ctsmrepo='ctsmsept20'\n",
    "defcase='SPdefault'\n",
    "ens_directory='SPfates_ens'\n",
    "caseroot='spfates_01_n'\n",
    "paramsdir='param_files_sp'\n",
    "ncases=6\n",
    "defbuild='/glade/scratch/$USER/%defcase/bld/'"
   ]
  },
  {
   "cell_type": "code",
   "execution_count": 2,
   "metadata": {},
   "outputs": [],
   "source": [
    "import os\n",
    "notebookdr=os.getcwd() "
   ]
  },
  {
   "cell_type": "markdown",
   "metadata": {},
   "source": [
    "Go to the CTSM repo, create a deafult FATES 4x5 case."
   ]
  },
  {
   "cell_type": "code",
   "execution_count": 3,
   "metadata": {},
   "outputs": [
    {
     "name": "stdout",
     "output_type": "stream",
     "text": [
      "/glade/work/rfisher/git/ctsmsept20/cime/scripts\n",
      "SPdefault exists on your filesystem.\n"
     ]
    }
   ],
   "source": [
    "%%bash -s \"$ctsmrepo\" \"$defcase\" \n",
    "\n",
    "ctsmrepo=$1\n",
    "defcase=$2\n",
    "\n",
    "#set compset and grid\n",
    "reso=f45_f45_mg37 \n",
    "comps=2000_DATM%GSWP3v1_CLM50%FATES_SICE_SOCN_MOSART_CISM2%NOEVOLVE_SWAV_SIAC_SESP\n",
    "\n",
    "cd /glade/work/$USER/\n",
    "#go to git directory\n",
    "if [[ -d \"git\" ]]\n",
    "then\n",
    "cd git/\n",
    "else\n",
    "mkdir git\n",
    "cd git\n",
    "fi\n",
    "\n",
    "#go to git repo, or checkout code\n",
    "if [[ -d \"$ctsmrepo\" ]]\n",
    "then\n",
    "cd $ctsmrepo\n",
    "else\n",
    "\n",
    "#clone CTSM code\n",
    "git clone https://github.com/escomp/ctsm $ctsmrepo\n",
    "cd $ctsmrepo\n",
    "./manage_externals/checkout_externals\n",
    "cd src\n",
    "\n",
    "#change CTSM code to SP branch. \n",
    "git remote add  rosie_ctsm_repo  https://github.com/rosiealice/ctsm\n",
    "git fetch rosie_ctsm_repo\n",
    "git checkout -b SP_api rosie_ctsm_repo/SP_api\n",
    "\n",
    "#change FATES code to SP branch. \n",
    "cd fates\n",
    "git remote add  rosie_fates_repo https://github.com/rosiealice/fates\n",
    "git fetch rosie_fates_repo\n",
    "git checkout -b fates_sp_sept rosie_fates_repo/fates_sp_sept\n",
    "\n",
    "cd ../../\n",
    "fi\n",
    "\n",
    "cd cime/scripts\n",
    "pwd\n",
    "if [[ -d \"$defcase\" ]]\n",
    "then\n",
    "    echo \"$defcase exists on your filesystem.\"\n",
    "else\n",
    "./create_newcase --case $defcase --compset 2000_DATM%GSWP3v1_CLM50%FATES_SICE_SOCN_MOSART_CISM2%NOEVOLVE_SWAV_SIAC_SESP --res f45_f45_mg37  --run-unsupported\n",
    "./case.setup\n",
    "./case.build\n",
    "fi\n",
    "\n",
    "cd $casename"
   ]
  },
  {
   "cell_type": "markdown",
   "metadata": {},
   "source": [
    "Adjust settings of default case. "
   ]
  },
  {
   "cell_type": "code",
   "execution_count": 4,
   "metadata": {},
   "outputs": [
    {
     "name": "stdout",
     "output_type": "stream",
     "text": [
      "/glade/work/rfisher/git/ctsmsept20/cime/scripts/SPdefault\n",
      "updating settings,\n",
      "For your changes to take effect, run:\n",
      "./case.build --clean-all\n",
      "./case.build\n",
      "For your changes to take effect, run:\n",
      "./case.build --clean-all\n",
      "./case.build\n"
     ]
    }
   ],
   "source": [
    "%%bash -s \"$ctsmrepo\" \"$defcase\" \"$defbuild\"\n",
    "\n",
    "ctsmrepo=$1\n",
    "defcase=$2\n",
    "defbuild=$3\n",
    "\n",
    "cd /glade/work/$USER/git/$ctsmrepo/cime/scripts/$defcase\n",
    "pwd\n",
    "\n",
    "echo 'updating settings',$newcase\n",
    "./xmlchange BUILD_COMPLETE=TRUE;\n",
    "./xmlchange EXEROOT=$defbuild;\n",
    "./xmlchange CONTINUE_RUN=FALSE;\n",
    "./xmlchange --id STOP_N --val 5;\n",
    "./xmlchange --id STOP_OPTION --val nyears;\n",
    "./xmlchange --id CLM_FORCE_COLDSTART --val on;\n"
   ]
  },
  {
   "cell_type": "markdown",
   "metadata": {},
   "source": [
    "Make ensemble of cases."
   ]
  },
  {
   "cell_type": "code",
   "execution_count": 5,
   "metadata": {},
   "outputs": [
    {
     "name": "stdout",
     "output_type": "stream",
     "text": [
      "6\n",
      "spfates_01_n\n",
      "SPfates_ens\n",
      "ctsmsept20\n",
      "/glade/work/rfisher/git/ctsmsept20/cime/scripts\n",
      "directory already exists\n",
      " new case already exists,SPfates_ens/spfates_01_n1\n",
      " new case already exists,SPfates_ens/spfates_01_n2\n",
      " new case already exists,SPfates_ens/spfates_01_n3\n",
      " new case already exists,SPfates_ens/spfates_01_n4\n",
      " new case already exists,SPfates_ens/spfates_01_n5\n",
      " new case already exists,SPfates_ens/spfates_01_n6\n"
     ]
    }
   ],
   "source": [
    "%%bash -s \"$ctsmrepo\" \"$defcase\" \"$ens_directory\" \"$caseroot\" $ncases\n",
    "\n",
    "ctsmrepo=$1\n",
    "defcase=$2\n",
    "ens_directory=$3\n",
    "caseroot=$4\n",
    "ncases=$5\n",
    "\n",
    "echo $ncases\n",
    "echo $caseroot\n",
    "echo $ens_directory\n",
    "echo $ctsmrepo\n",
    "\n",
    "cd /glade/work/$USER/git/$ctsmrepo/cime/scripts\n",
    "pwd\n",
    "\n",
    "if [[ -d \"$ens_directory\" ]]\n",
    "then\n",
    "echo \"directory already exists\"\n",
    "else\n",
    "mkdir $ens_directory\n",
    "fi \n",
    "\n",
    "counter1=1\n",
    "while [ $counter1 -le $ncases ]\n",
    "do\n",
    "  newcase=$caseroot$counter1\n",
    "  rm -rf $newcase \n",
    "  if [ -d $ens_directory/$newcase ]\n",
    "  then\n",
    "    echo ' new case already exists',$ens_directory/$newcase   \n",
    "  else\n",
    "   echo 'making', $newcase\n",
    "    ./create_clone --clone $defcase --case $ens_directory/$newcase ;\n",
    "    ./case.setup;\n",
    "  fi\n",
    "    ((counter1++))\n",
    "  done    \n"
   ]
  },
  {
   "cell_type": "markdown",
   "metadata": {},
   "source": [
    "Fix settings in new cases\n"
   ]
  },
  {
   "cell_type": "markdown",
   "metadata": {},
   "source": [
    "Make Default user_nl_clm File"
   ]
  },
  {
   "cell_type": "code",
   "execution_count": 6,
   "metadata": {},
   "outputs": [
    {
     "name": "stdout",
     "output_type": "stream",
     "text": [
      "ctsmsept20\n",
      "param_files_sp\n",
      "/glade/work/rfisher/git/ctsmsept20/cime/scripts\n",
      "/glade/u/home/rfisher/fates_sp_ensembles/param_files_sp/\n",
      "!----------------------------------------------------------------------------------\n",
      "! Users should add all user specific namelist changes below in the form of \n",
      "! namelist_var = new_namelist_value \n",
      "!\n",
      "! EXCEPTIONS: \n",
      "! Set use_cndv           by the compset you use and the CLM_BLDNML_OPTS -dynamic_vegetation setting\n",
      "! Set use_vichydro       by the compset you use and the CLM_BLDNML_OPTS -vichydro           setting\n",
      "! Set use_cn             by the compset you use and CLM_BLDNML_OPTS -bgc  setting\n",
      "! Set use_crop           by the compset you use and CLM_BLDNML_OPTS -crop setting\n",
      "! Set spinup_state       by the CLM_BLDNML_OPTS -bgc_spinup      setting\n",
      "! Set co2_ppmv           with CCSM_CO2_PPMV                      option\n",
      "! Set dtime              with L_NCPL                             option\n",
      "! Set fatmlndfrc         with LND_DOMAIN_PATH/LND_DOMAIN_FILE    options\n",
      "! Set finidat            with RUN_REFCASE/RUN_REFDATE/RUN_REFTOD options for hybrid or branch cases\n",
      "!                        (includes $inst_string for multi-ensemble cases)\n",
      "!                        or with CLM_FORCE_COLDSTART to do a cold start\n",
      "!                        or set it with an explicit filename here.\n",
      "! Set maxpatch_glcmec    with GLC_NEC                            option\n",
      "! Set glc_do_dynglacier  with GLC_TWO_WAY_COUPLING               env variable\n",
      "!----------------------------------------------------------------------------------\n",
      "\n",
      "fates_use_sp=.true.\n",
      "fates_use_nocomp=.true.\n",
      "fates_use_fixed_biogeog=.true.\n",
      "fates_paramfile='pftfilename_default'\n"
     ]
    }
   ],
   "source": [
    "%%bash -s \"$ctsmrepo\" \"$defcase\" \"$notebookdr\" \"$paramsdir\"\n",
    "\n",
    "ctsmrepo=$1\n",
    "echo $ctsmrepo\n",
    "defcase=$2\n",
    "notebookdr=$3\n",
    "paramsdir=$4\n",
    "echo $paramsdir\n",
    "cd /glade/work/$USER/git/$ctsmrepo/cime/scripts\n",
    "pwd\n",
    "cp  $defcase/user_nl_clm $notebookdr/$paramsdir/user_nl_clm_defult\n",
    "echo $notebookdr/$paramsdir/\n",
    "cd $notebookdr/$paramsdir/\n",
    "\n",
    "pftfilename_def=$notebookdr/$paramsdir\n",
    "\n",
    "echo fates_use_sp=.true. >> user_nl_clm_defult\n",
    "echo fates_use_nocomp=.true. >> user_nl_clm_defult\n",
    "echo fates_use_fixed_biogeog=.true. >> user_nl_clm_defult\n",
    "echo fates_paramfile=\\'\\pftfilename_default\\' >> user_nl_clm_defult\n",
    "\n",
    "cat user_nl_clm_defult\n"
   ]
  },
  {
   "cell_type": "markdown",
   "metadata": {},
   "source": [
    "Get working dir from python"
   ]
  },
  {
   "cell_type": "markdown",
   "metadata": {},
   "source": [
    "Make a directory for the parameter files to go in and copy default .nc parameter file there. "
   ]
  },
  {
   "cell_type": "code",
   "execution_count": 7,
   "metadata": {},
   "outputs": [
    {
     "name": "stdout",
     "output_type": "stream",
     "text": [
      "ctsmsept20\n",
      "ctsmsept20\n",
      "existing param firectory\n",
      "total 1665\n",
      "-rw-r--r-- 1 rfisher ncar 64559 Nov 10 04:13 fates_params_default.cdl\n",
      "-rw-r--r-- 1 rfisher ncar 61944 Nov 10 05:57 fates_params_default.nc\n",
      "-rw-r--r-- 1 rfisher ncar 61944 Nov 10 04:08 fates_params_update.nc\n",
      "-rw-r--r-- 1 rfisher ncar 61944 Nov 10 04:17 fates_params_update_1.nc\n",
      "-rw-r--r-- 1 rfisher ncar 61944 Nov 10 04:16 fates_params_update_10.nc\n",
      "-rw-r--r-- 1 rfisher ncar 61944 Nov 10 04:17 fates_params_update_2.nc\n",
      "-rw-r--r-- 1 rfisher ncar 61944 Nov 10 04:17 fates_params_update_3.nc\n",
      "-rw-r--r-- 1 rfisher ncar 61944 Nov 10 04:17 fates_params_update_4.nc\n",
      "-rw-r--r-- 1 rfisher ncar 61944 Nov 10 04:17 fates_params_update_5.nc\n",
      "-rw-r--r-- 1 rfisher ncar 61944 Nov 10 04:17 fates_params_update_6.nc\n",
      "-rw-r--r-- 1 rfisher ncar 61944 Nov 10 04:17 fates_params_update_7.nc\n",
      "-rw-r--r-- 1 rfisher ncar 61944 Nov 10 04:17 fates_params_update_8.nc\n",
      "-rw-r--r-- 1 rfisher ncar 61944 Nov 10 04:17 fates_params_update_9.nc\n",
      "-rw-r--r-- 1 rfisher ncar  1529 Nov 10 05:57 user_nl_clm_defult\n",
      "/glade/u/home/rfisher/fates_sp_ensembles/param_files_sp\n",
      "total 1537\n",
      "-rw-r--r-- 1 rfisher ncar 64559 Nov 10 04:13 fates_params_default.cdl\n",
      "-rw-r--r-- 1 rfisher ncar 61944 Nov 10 05:57 fates_params_default.nc\n",
      "-rw-r--r-- 1 rfisher ncar 61944 Nov 10 04:08 fates_params_update.nc\n",
      "-rw-r--r-- 1 rfisher ncar 61944 Nov 10 04:17 fates_params_update_1.nc\n",
      "-rw-r--r-- 1 rfisher ncar 61944 Nov 10 04:16 fates_params_update_10.nc\n",
      "-rw-r--r-- 1 rfisher ncar 61944 Nov 10 04:17 fates_params_update_2.nc\n",
      "-rw-r--r-- 1 rfisher ncar 61944 Nov 10 04:17 fates_params_update_3.nc\n",
      "-rw-r--r-- 1 rfisher ncar 61944 Nov 10 04:17 fates_params_update_4.nc\n",
      "-rw-r--r-- 1 rfisher ncar 61944 Nov 10 04:17 fates_params_update_5.nc\n",
      "-rw-r--r-- 1 rfisher ncar 61944 Nov 10 04:17 fates_params_update_6.nc\n",
      "-rw-r--r-- 1 rfisher ncar 61944 Nov 10 04:17 fates_params_update_7.nc\n",
      "-rw-r--r-- 1 rfisher ncar 61944 Nov 10 04:17 fates_params_update_8.nc\n",
      "-rw-r--r-- 1 rfisher ncar 61944 Nov 10 04:17 fates_params_update_9.nc\n",
      "-rw-r--r-- 1 rfisher ncar  1529 Nov 10 05:57 user_nl_clm_defult\n"
     ]
    }
   ],
   "source": [
    "%%bash -s \"$ctsmrepo\" \"$notebookdr\"  \"$paramsdir\"\n",
    "echo $1\n",
    "ctsmrepo=$1\n",
    "notebookdr=$2\n",
    "paramsdir=$3\n",
    "echo $ctsmrepo\n",
    "\n",
    "cd $notebookdr\n",
    "if [[ -d \"$paramsdir\" ]]\n",
    "then\n",
    "   cd $paramsdir\n",
    "   echo \"existing param firectory\"\n",
    "   ls -l\n",
    "else \n",
    "    mkdir $paramsdir\n",
    "    echo \"made param firectory\"\n",
    "fi\n",
    "pwd\n",
    "\n",
    "cp /glade/work/$USER/git/$ctsmrepo/src/fates/parameter_files/fates_params_default.nc fates_params_default.nc\n",
    "ls -l\n"
   ]
  },
  {
   "cell_type": "code",
   "execution_count": 8,
   "metadata": {},
   "outputs": [
    {
     "name": "stdout",
     "output_type": "stream",
     "text": [
      "ctsmsept20\n"
     ]
    }
   ],
   "source": [
    "%%bash -s \"$ctsmrepo\" \"$notebookdr\" \"$paramsdir\" \n",
    "\n",
    "ctsmrepo=$1\n",
    "echo $1\n",
    "\n"
   ]
  },
  {
   "cell_type": "markdown",
   "metadata": {},
   "source": [
    "Create .nc version of current defualt file. I FAILED ATT THIS. NEEDS INPUT.."
   ]
  },
  {
   "cell_type": "markdown",
   "metadata": {},
   "source": [
    "Mpdify default parameter file"
   ]
  },
  {
   "cell_type": "code",
   "execution_count": 10,
   "metadata": {},
   "outputs": [
    {
     "ename": "SyntaxError",
     "evalue": "invalid syntax (<ipython-input-10-c543714914ce>, line 17)",
     "output_type": "error",
     "traceback": [
      "\u001b[0;36m  File \u001b[0;32m\"<ipython-input-10-c543714914ce>\"\u001b[0;36m, line \u001b[0;32m17\u001b[0m\n\u001b[0;31m    filename_out= notebookdr+'/'+param_files_sp+/fates_params_update_'+str(i)+'.nc'\u001b[0m\n\u001b[0m                                                ^\u001b[0m\n\u001b[0;31mSyntaxError\u001b[0m\u001b[0;31m:\u001b[0m invalid syntax\n"
     ]
    }
   ],
   "source": [
    "import netCDF4 as nc4\n",
    "import sys\n",
    "import os\n",
    "import shutil\n",
    "\n",
    "def copy_clobber(filename1, filename2):\n",
    "    try:\n",
    "        os.remove(filename2)\n",
    "        print('replacing file: '+filename2)\n",
    "    except:\n",
    "        print('file does not yet exist: '+filename2)\n",
    "    shutil.copyfile(filename1, filename2)\n",
    "\n",
    "filename_template = notebookdr+'/'+paramsdir+'/fates_params_default.nc'\n",
    "   \n",
    "for i in range(1,10):\n",
    "    filename_out= notebookdr+'/'+param_files_sp+/fates_params_update_'+str(i)+'.nc'\n",
    "    print(filename_out)\n",
    "    copy_clobber(filename_template,filename_out)\n",
    "\n",
    "    fin = nc4.Dataset(filename_out, 'r+')\n",
    "\n",
    "    fates_leaf_vcmax25top_var = fin.variables['fates_leaf_vcmax25top']\n",
    "    fates_leaf_vcmax25top_var[:] = i*10\n",
    "    fin.close()\n"
   ]
  },
  {
   "cell_type": "code",
   "execution_count": null,
   "metadata": {},
   "outputs": [],
   "source": []
  },
  {
   "cell_type": "code",
   "execution_count": null,
   "metadata": {},
   "outputs": [],
   "source": [
    "%%shell -s \"$defparamfile_cdl\" \"$defparamfile_nc\" \"$ctsmrepo\"\n",
    "module load nco\n",
    "\n",
    "defparamfile_cdl=$1\n",
    "defparamfile_nc=$2\n",
    "ctsmrepo=$3\n",
    "\n",
    "cd /glade/work/$USER/git/$ctsmrepo/src/fates/parameter_files\n",
    "\n",
    "ncgen -o defparamfile_nc defparamfile_cdl"
   ]
  },
  {
   "cell_type": "markdown",
   "metadata": {},
   "source": [
    "Make ensemble of parameer files"
   ]
  },
  {
   "cell_type": "markdown",
   "metadata": {},
   "source": [
    "Point each ensemble script at different parameter file"
   ]
  },
  {
   "cell_type": "code",
   "execution_count": null,
   "metadata": {},
   "outputs": [],
   "source": [
    "%%bash\n",
    "defcase=SPdefault\n",
    "directory=SPfates_ens\n",
    "caseroot=spfates_01_n\n",
    "ncases=6\n",
    "ctsmrepo=ctsmsept20\n",
    "defbuild=/glade/scratch/$USER/%defcase/bld/\n",
    "\n",
    "cd /glade/work/$USER/git/$ctsmrepo/cime/scripts\n",
    "counter1=1\n",
    "cd $directory\n",
    "pwd\n",
    "ls -l\n",
    "while [ $counter1 -le $ncases ]\n",
    "do\n",
    "  echo $counter1\n",
    "  newcase=$caseroot$counter1\n",
    "  echo $newcase\n",
    "\n",
    "  if [ -d $newcase ]\n",
    "  then\n",
    "   cd $newcase\n",
    "    echo 'updating parameter file',$newcase\n",
    "\n",
    "   # sed -i 's/6PFTS/'$pftfilename'/g' user_nl_clm\n",
    "   # cat user_nl_clm\n",
    "\n",
    "    cd ../\n",
    "  else\n",
    "   echo 'no case', $newcase\n",
    "  fi\n",
    "\n",
    "  ((counter1++))\n",
    "  done\n"
   ]
  },
  {
   "cell_type": "markdown",
   "metadata": {},
   "source": [
    "Submit ensemble of cases"
   ]
  },
  {
   "cell_type": "code",
   "execution_count": null,
   "metadata": {},
   "outputs": [],
   "source": [
    "%%bash\n",
    "directory=SPfates_ens\n",
    "caseroot=spfates_01_n\n",
    "ncases=6\n",
    "ctsmrepo=ctsmsept20\n",
    "\n",
    "cd /glade/work/$USER/git/$ctsmrepo/cime/scripts\n",
    "\n",
    "counter1=1\n",
    "cd $directory\n",
    "pwd\n",
    "ls -l\n",
    "while [ $counter1 -le $ncases ]\n",
    "do\n",
    "  echo $counter1\n",
    "  newcase=$caseroot$counter1\n",
    "  echo $newcase\n",
    "\n",
    "  if [ -d $newcase ]\n",
    "  then\n",
    "    cd $newcase\n",
    "    echo 'submitting job',$newcase\n",
    "    ./case.submit;\n",
    "    cd ../\n",
    "  else\n",
    "   echo 'no case', $newcase\n",
    "  fi\n",
    "\n",
    "  ((counter1++))\n",
    "  done"
   ]
  }
 ],
 "metadata": {
  "kernelspec": {
   "display_name": "Pangeo (2019.09.12 - py3.7)",
   "language": "python",
   "name": "pangeo-2019.09.12"
  },
  "language_info": {
   "codemirror_mode": {
    "name": "ipython",
    "version": 3
   },
   "file_extension": ".py",
   "mimetype": "text/x-python",
   "name": "python",
   "nbconvert_exporter": "python",
   "pygments_lexer": "ipython3",
   "version": "3.7.3"
  }
 },
 "nbformat": 4,
 "nbformat_minor": 4
}
